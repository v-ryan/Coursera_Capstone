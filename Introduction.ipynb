{
 "cells": [
  {
   "cell_type": "markdown",
   "metadata": {},
   "source": [
    "## Introduction"
   ]
  },
  {
   "cell_type": "markdown",
   "metadata": {},
   "source": [
    "Bandung is the capital city of West Java - Indonesia. In the early 20th century the Dutch inhabitants of Bandung demanded the establishment of a municipality (gemeente), which was granted in 1906, and Bandung gradually developed into a resort city for plantation owners. Luxurious hotels, restaurants, cafés, and European boutiques were opened, leading the city to be nicknamed Parijs van Java (Dutch: \"The Paris of Java\") (Ref. Wikipedia).<br>\n",
    "Bandung tourism industry increases exponentially as the Airport accomodates more international flights. This attracts investors locally and internationally to establish their business in Bandung. However, due to language barrier and lack of information of tourist destination, foreigner who wish to invest may find it difficult to understand the regulation and best location before they decide to open a business.<br>\n",
    "This report is created for potential investors to determine the best location for their business based on demographic data of neighborhood in Bandung."
   ]
  },
  {
   "cell_type": "code",
   "execution_count": null,
   "metadata": {},
   "outputs": [],
   "source": []
  }
 ],
 "metadata": {
  "kernelspec": {
   "display_name": "Python",
   "language": "python",
   "name": "conda-env-python-py"
  },
  "language_info": {
   "codemirror_mode": {
    "name": "ipython",
    "version": 3
   },
   "file_extension": ".py",
   "mimetype": "text/x-python",
   "name": "python",
   "nbconvert_exporter": "python",
   "pygments_lexer": "ipython3",
   "version": "3.6.12"
  }
 },
 "nbformat": 4,
 "nbformat_minor": 4
}
